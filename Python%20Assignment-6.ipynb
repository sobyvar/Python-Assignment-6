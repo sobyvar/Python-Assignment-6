{
 "cells": [
  {
   "cell_type": "code",
   "execution_count": 1,
   "metadata": {},
   "outputs": [
    {
     "name": "stdout",
     "output_type": "stream",
     "text": [
      "Vector with no length and Decreasing display\n",
      "[[  1   1   1   1]\n",
      " [  8   4   2   1]\n",
      " [ 27   9   3   1]\n",
      " [125  25   5   1]]\n",
      "Vector with no length and Increasing display\n",
      "[[  1   1   1   1]\n",
      " [  1   2   4   8]\n",
      " [  1   3   9  27]\n",
      " [  1   5  25 125]]\n",
      "Vector with length and Decreasing display\n",
      "[[ 1  1  1]\n",
      " [ 4  2  1]\n",
      " [ 9  3  1]\n",
      " [25  5  1]]\n",
      "Vector with length and Increasing display\n",
      "[[ 1  1  1]\n",
      " [ 1  2  4]\n",
      " [ 1  3  9]\n",
      " [ 1  5 25]]\n",
      "Vector with no length and Decreasing display\n",
      "[[  1   1   1   1]\n",
      " [  8   4   2   1]\n",
      " [ 27   9   3   1]\n",
      " [125  25   5   1]]\n",
      "Vector with length and Decreasing display\n",
      "[[ 1  1  1]\n",
      " [ 4  2  1]\n",
      " [ 9  3  1]\n",
      " [25  5  1]]\n"
     ]
    }
   ],
   "source": [
    "# Write a function so that the columns of the output matrix are powers of the input\n",
    "# vector. The order of the powers is determined by the increasing boolean argument. Specifically,\n",
    "# when increasing is False, the i-th output column is the input vector raised element-wise\n",
    "# to the power of N - i - 1.\n",
    "# HINT: Such a matrix with a geometric progression in each row is named for Alexandre-\n",
    "# Theophile Vandermonde.\n",
    "\n",
    "def Alexandre(N,Bol):\n",
    "  import numpy as np\n",
    "  x=np.array([1,2,3,5])\n",
    "\n",
    "  if (len(Bol) == 0 or Bol =='False'):\n",
    "    check=''   \n",
    "  else:\n",
    "    check='True'  \n",
    "\n",
    "  if N == 0:\n",
    "    Num=len(x)\n",
    "  else:\n",
    "    Num=N\n",
    "\n",
    "  \n",
    "  print(np.vander(x,Num,increasing=check)) \n",
    "\n",
    "print('Vector with no length and Decreasing display')\n",
    "Alexandre(N=0,Bol='')\n",
    "print('Vector with no length and Increasing display')\n",
    "Alexandre(N=0,Bol='True')\n",
    "print('Vector with length and Decreasing display')\n",
    "Alexandre(N=3,Bol='')\n",
    "print('Vector with length and Increasing display')\n",
    "Alexandre(N=3,Bol='True')\n",
    "print('Vector with no length and Decreasing display')\n",
    "Alexandre(N=0,Bol='False')\n",
    "print('Vector with length and Decreasing display')\n",
    "Alexandre(N=3,Bol='False')"
   ]
  },
  {
   "cell_type": "code",
   "execution_count": null,
   "metadata": {},
   "outputs": [],
   "source": []
  }
 ],
 "metadata": {
  "kernelspec": {
   "display_name": "Python 3",
   "language": "python",
   "name": "python3"
  },
  "language_info": {
   "codemirror_mode": {
    "name": "ipython",
    "version": 3
   },
   "file_extension": ".py",
   "mimetype": "text/x-python",
   "name": "python",
   "nbconvert_exporter": "python",
   "pygments_lexer": "ipython3",
   "version": "3.6.5"
  }
 },
 "nbformat": 4,
 "nbformat_minor": 2
}
